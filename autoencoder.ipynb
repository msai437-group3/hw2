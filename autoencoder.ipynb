{
 "cells": [
  {
   "cell_type": "code",
   "execution_count": 5,
   "metadata": {},
   "outputs": [
    {
     "name": "stderr",
     "output_type": "stream",
     "text": [
      "/Library/Frameworks/Python.framework/Versions/3.12/lib/python3.12/site-packages/tqdm/auto.py:21: TqdmWarning: IProgress not found. Please update jupyter and ipywidgets. See https://ipywidgets.readthedocs.io/en/stable/user_install.html\n",
      "  from .autonotebook import tqdm as notebook_tqdm\n"
     ]
    }
   ],
   "source": [
    "import numpy as np \n",
    "import io\n",
    "import matplotlib.pyplot as plt\n",
    "import pandas as pd\n",
    "from datasets import load_dataset\n",
    "from PIL import Image\n",
    "import torch\n",
    "import torch.nn as nn\n",
    "from matplotlib import gridspec\n"
   ]
  },
  {
   "cell_type": "code",
   "execution_count": 6,
   "metadata": {},
   "outputs": [
    {
     "name": "stdout",
     "output_type": "stream",
     "text": [
      "Train: 1319 examples\n",
      "Test: 550 examples\n",
      "Validation: 330 examples\n"
     ]
    }
   ],
   "source": [
    "\n",
    "# Load the \"emoji-dataset\"\n",
    "dataset = load_dataset(\"valhalla/emoji-dataset\")\n",
    "\n",
    "# Split the dataset into training, testing, and validation sets\n",
    "train_ratio = 0.6\n",
    "test_ratio = 0.2\n",
    "validation_ratio = 0.2\n",
    "\n",
    "# Use the train_test_split function to create the splits\n",
    "splits = dataset[\"train\"].train_test_split(\n",
    "    test_size=test_ratio,\n",
    "    train_size=train_ratio,\n",
    "    shuffle=True,\n",
    "    # split_seed=42  # You can change this seed for reproducibility\n",
    ")\n",
    "\n",
    "# Access the resulting splits\n",
    "train_dataset = splits[\"train\"]\n",
    "test_dataset = splits[\"test\"]\n",
    "\n",
    "# Further split the train_dataset for validation\n",
    "train_splits = train_dataset.train_test_split(\n",
    "    test_size=validation_ratio,\n",
    "    train_size=1 - validation_ratio,\n",
    "    shuffle=True,\n",
    "    # split_seed=42\n",
    ")\n",
    "\n",
    "# Access the resulting splits\n",
    "train_dataset = train_splits[\"train\"]\n",
    "validation_dataset = train_splits[\"test\"]\n",
    "\n",
    "# Print the number of examples in each split\n",
    "print(f\"Train: {len(train_dataset)} examples\")\n",
    "print(f\"Test: {len(test_dataset)} examples\")\n",
    "print(f\"Validation: {len(validation_dataset)} examples\")\n"
   ]
  },
  {
   "cell_type": "code",
   "execution_count": 16,
   "metadata": {},
   "outputs": [
    {
     "data": {
      "text/plain": [
       "(256, 256)"
      ]
     },
     "execution_count": 16,
     "metadata": {},
     "output_type": "execute_result"
    }
   ],
   "source": [
    "first_example = train_dataset[0]\n",
    "# first_example = Image.open(io.BytesIO(train_dataset.iloc[0]['image']['bytes']))\n",
    "\n",
    "first_example\n",
    "# Access the image from the dictionary\n",
    "image = first_example['image']\n",
    "\n",
    "# Show the image\n",
    "image.size\n",
    "plt.imshow(image)\n"
   ]
  },
  {
   "cell_type": "code",
   "execution_count": 8,
   "metadata": {
    "tags": [
     "n"
    ]
   },
   "outputs": [],
   "source": [
    "def show_images(images):\n",
    "    images = np.reshape(images, [images.shape[0], -1])  # images reshape to (batch_size, D)\n",
    "    sqrtn = int(np.ceil(np.sqrt(images.shape[0])))\n",
    "    sqrtimg = int(np.ceil(np.sqrt(images.shape[1])))\n",
    "\n",
    "    fig = plt.figure(figsize=(sqrtn, sqrtn))\n",
    "    gs = gridspec.GridSpec(sqrtn, sqrtn)\n",
    "    gs.update(wspace=0.05, hspace=0.05)\n",
    "\n",
    "    for i, img in enumerate(images):\n",
    "        ax = plt.subplot(gs[i])\n",
    "        plt.axis('off')\n",
    "        ax.set_xticklabels([])\n",
    "        ax.set_yticklabels([])\n",
    "        ax.set_aspect('equal')\n",
    "        plt.imshow(img.reshape([sqrtimg,sqrtimg]))\n",
    "    return"
   ]
  },
  {
   "cell_type": "markdown",
   "metadata": {},
   "source": [
    "Constructing the Generating Neural Network\n",
    "\n",
    "- fully connected layer that takes an input from noise_dim and outputs to a size of 1024.\n",
    "- A ReLU activation function.\n",
    "- Another fully connected layer, this time maintaining a size of 1024.\n",
    "- nother ReLU activation function.\n",
    "- A final fully connected layer with a size of 784.\n",
    "- A TanH activation function, which is used to ensure the output image values are within the range of -1 to 1.\n",
    "\n",
    "From the Paper:\n",
    "Architecture guidelines for stable Deep Convolutional GANs\n",
    "- Replace any pooling layers with strided convolutions (discriminator) and fractional-strided\n",
    "convolutions (generator).\n",
    "- Use batchnorm in both the generator and the discriminator.\n",
    "- Remove fully connected hidden layers for deeper architectures.\n",
    "- Use ReLU activation in generator for all layers except for the output, which uses Tanh.\n",
    "- Use LeakyReLU activation in the discriminator for all layers|\n",
    "- Item 1\n",
    "\n"
   ]
  },
  {
   "cell_type": "code",
   "execution_count": 15,
   "metadata": {},
   "outputs": [
    {
     "name": "stdout",
     "output_type": "stream",
     "text": [
      "Sequential(\n",
      "  (0): Linear(in_features=100, out_features=12544, bias=False)\n",
      "  (1): BatchNorm1d(12544, eps=1e-05, momentum=0.1, affine=True, track_running_stats=True)\n",
      "  (2): LeakyReLU(negative_slope=0.01, inplace=True)\n",
      "  (3): ConvTranspose2d(256, 128, kernel_size=(5, 5), stride=(1, 1), padding=(2, 2), bias=False)\n",
      "  (4): BatchNorm2d(128, eps=1e-05, momentum=0.1, affine=True, track_running_stats=True)\n",
      "  (5): LeakyReLU(negative_slope=0.01, inplace=True)\n",
      "  (6): ConvTranspose2d(128, 1, kernel_size=(3, 3), stride=(1, 1), padding=(1, 1), bias=False)\n",
      "  (7): Tanh()\n",
      ")\n"
     ]
    }
   ],
   "source": [
    "def generator_model(input_size, hidden_size, output_size):\n",
    "    layer1 = [\n",
    "        nn.Linear(in_features=input_size, out_features=hidden_size, bias=False),\n",
    "        nn.BatchNorm1d(hidden_size),\n",
    "        # allows the gradients to flow better through the model \n",
    "        nn.LeakyReLU(inplace=True)\n",
    "    ]\n",
    "    layer2 = [\n",
    "        nn.ConvTranspose2d(256, 128, kernel_size=(5, 5), stride=(1, 1), padding=(2, 2), bias=False),\n",
    "        nn.BatchNorm2d(128),\n",
    "        nn.LeakyReLU(inplace=True)\n",
    "            \n",
    "    ]\n",
    "    layer3 = [\n",
    "        nn.ConvTranspose2d(128, 1, kernel_size=(3, 3), padding=(1, 1), bias=False),\n",
    "        nn.Tanh()\n",
    "    ]\n",
    "    layers = layer1 + layer2 + layer3\n",
    "    model = nn.Sequential(*layers)\n",
    "    return model\n",
    "input_size = 100\n",
    "hidden_size = 7*7*256 \n",
    "output_size = 0\n",
    "generator = generator_model(input_size, hidden_size, output_size)\n",
    "print(generator)"
   ]
  },
  {
   "cell_type": "code",
   "execution_count": 13,
   "metadata": {},
   "outputs": [
    {
     "name": "stdout",
     "output_type": "stream",
     "text": [
      "Sequential(\n",
      "  (0): Conv2d(1, 64, kernel_size=(5, 5), stride=(2, 2), padding=(2, 2))\n",
      "  (1): LeakyReLU(negative_slope=0.01, inplace=True)\n",
      "  (2): Dropout(p=0.3, inplace=False)\n",
      "  (3): Conv2d(64, 128, kernel_size=(5, 5), stride=(2, 2), padding=(2, 2))\n",
      "  (4): LeakyReLU(negative_slope=0.01, inplace=True)\n",
      "  (5): Dropout(p=0.3, inplace=False)\n",
      "  (6): Conv2d(128, 256, kernel_size=(5, 5), stride=(2, 2), padding=(2, 2))\n",
      "  (7): LeakyReLU(negative_slope=0.01, inplace=True)\n",
      "  (8): Dropout(p=0.3, inplace=False)\n",
      "  (9): Flatten(start_dim=1, end_dim=-1)\n",
      "  (10): Linear(in_features=4096, out_features=1, bias=True)\n",
      ")\n"
     ]
    }
   ],
   "source": [
    "def discriminator_model():\n",
    "    layer1 = [\n",
    "        nn.Conv2d(1, 64, kernel_size=(5, 5), stride=(2, 2), padding=(2, 2)),\n",
    "        nn.LeakyReLU(inplace=True),\n",
    "        nn.Dropout(0.3)\n",
    "    ]\n",
    "    layer2 = [\n",
    "        nn.Conv2d(64, 128, kernel_size=(5, 5), stride=(2, 2), padding=(2, 2)),\n",
    "        nn.LeakyReLU(inplace=True),\n",
    "        nn.Dropout(0.3)\n",
    "            \n",
    "    ]\n",
    "    layer3 = [\n",
    "        nn.Conv2d(128, 256, kernel_size=(5, 5), stride=(2, 2), padding=(2, 2)),\n",
    "        nn.LeakyReLU(inplace=True),\n",
    "        nn.Dropout(0.3)\n",
    "    ]\n",
    "    layers = layer1 + layer2 + layer3 + [nn.Flatten(), nn.Linear(256 * 4 * 4, 1)]\n",
    "\n",
    "    model = nn.Sequential(*layers)\n",
    "    return model\n",
    "discriminator = discriminator_model()\n",
    "print(discriminator)"
   ]
  },
  {
   "cell_type": "code",
   "execution_count": null,
   "metadata": {},
   "outputs": [],
   "source": []
  }
 ],
 "metadata": {
  "kernelspec": {
   "display_name": "Python 3",
   "language": "python",
   "name": "python3"
  },
  "language_info": {
   "codemirror_mode": {
    "name": "ipython",
    "version": 3
   },
   "file_extension": ".py",
   "mimetype": "text/x-python",
   "name": "python",
   "nbconvert_exporter": "python",
   "pygments_lexer": "ipython3",
   "version": "3.12.0"
  }
 },
 "nbformat": 4,
 "nbformat_minor": 2
}
